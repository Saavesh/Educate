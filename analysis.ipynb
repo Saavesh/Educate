{
 "cells": [
  {
   "cell_type": "markdown",
   "id": "ff47069f",
   "metadata": {},
   "source": [
    "## Section 1. Import Libraries and Verify API key is Found"
   ]
  },
  {
   "cell_type": "code",
   "execution_count": 2,
   "id": "8381f88e",
   "metadata": {},
   "outputs": [
    {
     "name": "stdout",
     "output_type": "stream",
     "text": [
      "Key loaded: True\n"
     ]
    }
   ],
   "source": [
    "# Standard library imports\n",
    "import os\n",
    "import sys\n",
    "import time # to pause between API calls\n",
    "\n",
    "# Third-party imports\n",
    "from dotenv import load_dotenv\n",
    "import numpy as np\n",
    "import pandas as pd\n",
    "import requests\n",
    "from requests.adapters import HTTPAdapter\n",
    "import sklearn\n",
    "from urllib3.util.retry import Retry\n",
    "\n",
    "\n",
    "# look for a .env file\n",
    "load_dotenv()\n",
    "\n",
    "# get the key\n",
    "CENSUS_API_KEY = os.getenv(\"CENSUS_API_KEY\")\n",
    "# verify we have it\n",
    "print(\"Key loaded:\", bool(CENSUS_API_KEY))\n",
    "\n",
    "# ensure a data directory exists\n",
    "os.makedirs(\"data\", exist_ok=True)\n"
   ]
  },
  {
   "cell_type": "markdown",
   "id": "755299f9",
   "metadata": {},
   "source": [
    "---\n",
    "## Section 2: Load Data"
   ]
  },
  {
   "cell_type": "markdown",
   "id": "e793684f",
   "metadata": {},
   "source": [
    "### 2.1 Gini Index\n",
    "#### API Query Parameters\n",
    "\n",
    "The `params` dictionary builds the request to the Census API:\n",
    "\n",
    "* **`get`**: Specifies the variables we want to download:\n",
    "    * `NAME`: The state's name.\n",
    "    * `B19083_001E`: Gini Index of Income Inequality (the estimate).\n",
    "    * `B19083_001M`: The Margin of Error for the Gini Index.\n",
    "* **`for`**: Sets the geographic scope. `state:*` means \"get data for all states.\"\n",
    "* **`key`**: Authenticates the request using your personal API key."
   ]
  },
  {
   "cell_type": "code",
   "execution_count": 3,
   "id": "72292bf0",
   "metadata": {},
   "outputs": [],
   "source": [
    "params = {\n",
    "    \"get\": \"NAME,B19083_001E,B19083_001M\",\n",
    "    \"for\": \"state:*\",\n",
    "    \"key\": CENSUS_API_KEY  # safely injected\n",
    "}"
   ]
  },
  {
   "cell_type": "markdown",
   "id": "5f201354",
   "metadata": {},
   "source": [
    "#### Build and Clean the DataFrame\n",
    "\n",
    "Convert the raw API rows into a clean Dataframe\n",
    "- Create a DataFrame with the collected rows and captured cols.\n",
    "- Rename Census codes to friendly names: gini (estimate) and gini_moe (margin of error).\n",
    "- Convert numeric columns from strings to numbers.\n",
    "- Normalize the state code to a 2-digit FIPS string (state_fips).\n",
    "- Drop duplicate state column, sort by year and state_fips, and reset the index.\n",
    "- Print the final shape and list any years that failed.\n",
    "- Save the dataset to a CSV file for later analysis."
   ]
  },
  {
   "cell_type": "code",
   "execution_count": null,
   "id": "adf65319",
   "metadata": {},
   "outputs": [],
   "source": []
  },
  {
   "cell_type": "code",
   "execution_count": null,
   "id": "118cf5f1",
   "metadata": {},
   "outputs": [],
   "source": []
  }
 ],
 "metadata": {
  "kernelspec": {
   "display_name": "venv",
   "language": "python",
   "name": "python3"
  },
  "language_info": {
   "codemirror_mode": {
    "name": "ipython",
    "version": 3
   },
   "file_extension": ".py",
   "mimetype": "text/x-python",
   "name": "python",
   "nbconvert_exporter": "python",
   "pygments_lexer": "ipython3",
   "version": "3.13.3"
  }
 },
 "nbformat": 4,
 "nbformat_minor": 5
}
